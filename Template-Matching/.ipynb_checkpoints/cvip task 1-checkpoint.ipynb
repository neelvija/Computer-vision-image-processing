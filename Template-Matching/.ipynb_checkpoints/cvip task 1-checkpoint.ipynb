{
 "cells": [
  {
   "cell_type": "code",
   "execution_count": 116,
   "metadata": {},
   "outputs": [],
   "source": [
    "import argparse\n",
    "import copy\n",
    "import os\n",
    "\n",
    "import cv2\n",
    "import numpy as np\n",
    "\n",
    "import utils"
   ]
  },
  {
   "cell_type": "code",
   "execution_count": 117,
   "metadata": {},
   "outputs": [],
   "source": [
    "\n",
    "# Prewitt operator\n",
    "prewitt_x = [ [1, 0, -1], [1, 0, -1], [1, 0, -1] ]\n",
    "prewitt_y = [[1] * 3, [0] * 3, [-1] * 3]\n",
    "\n",
    "# Sobel operator\n",
    "sobel_x = [[1, 0, -1], [2, 0, -2], [1, 0, -1]]\n",
    "sobel_y = [[-1, -2, -1], [0, 0, 0], [1, 2, 1]]"
   ]
  },
  {
   "cell_type": "code",
   "execution_count": 118,
   "metadata": {},
   "outputs": [],
   "source": [
    "kernel_x= prewitt_x"
   ]
  },
  {
   "cell_type": "code",
   "execution_count": 119,
   "metadata": {},
   "outputs": [],
   "source": [
    "kernel_y= prewitt_y"
   ]
  },
  {
   "cell_type": "code",
   "execution_count": 120,
   "metadata": {},
   "outputs": [],
   "source": [
    "def parse_args():\n",
    "    parser = argparse.ArgumentParser(description=\"cse 473/573 project 1.\")\n",
    "    parser.add_argument(\n",
    "        \"--img_path\", type=str, default=\"\",\n",
    "        help=\"path to the image used for edge detection\")\n",
    "    parser.add_argument(\n",
    "        \"--kernel\", type=str, default=\"sobel\",\n",
    "        choices=[\"prewitt\", \"sobel\", \"Prewitt\", \"Sobel\"],\n",
    "        help=\"type of edge detector used for edge detection\")\n",
    "    parser.add_argument(\n",
    "        \"--result_saving_directory\", dest=\"rs_directory\", type=str, default=\"./results/\",\n",
    "        help=\"directory to which results are saved (do not change this arg)\")\n",
    "    args = parser.parse_args()\n",
    "    return args\n"
   ]
  },
  {
   "cell_type": "code",
   "execution_count": 121,
   "metadata": {},
   "outputs": [],
   "source": [
    "def read_image(img_path, show=False):\n",
    "    \"\"\"Reads an image into memory as a grayscale array.\n",
    "    \"\"\"\n",
    "    img = cv2.imread(img_path, cv2.IMREAD_GRAYSCALE)\n",
    "    if not img.dtype == np.uint8:\n",
    "        pass\n",
    "\n",
    "    if show:\n",
    "        show_image(img)\n",
    "\n",
    "    img = [list(row) for row in img]\n",
    "    return img"
   ]
  },
  {
   "cell_type": "code",
   "execution_count": 122,
   "metadata": {},
   "outputs": [],
   "source": [
    "def show_image(img, delay=1000):\n",
    "    \"\"\"Shows an image.\n",
    "    \"\"\"\n",
    "    cv2.namedWindow('image', cv2.WINDOW_AUTOSIZE)\n",
    "    cv2.imshow('image', img)\n",
    "    cv2.waitKey(delay)\n",
    "    cv2.destroyAllWindows()"
   ]
  },
  {
   "cell_type": "code",
   "execution_count": 123,
   "metadata": {},
   "outputs": [],
   "source": [
    "def write_image(img, img_saving_path):\n",
    "    \"\"\"Writes an image to a given path.\n",
    "    \"\"\"\n",
    "    if isinstance(img, list):\n",
    "        img = np.asarray(img, dtype=np.uint8)\n",
    "    elif isinstance(img, np.ndarray):\n",
    "        if not img.dtype == np.uint8:\n",
    "            assert np.max(img) <= 1, \"Maximum pixel value {:.3f} is greater than 1\".format(np.max(img))\n",
    "            img = (255 * img).astype(np.uint8)\n",
    "    else:\n",
    "        raise TypeError(\"img is neither a list nor a ndarray.\")\n",
    "\n",
    "    cv2.imwrite(img_saving_path, img)"
   ]
  },
  {
   "cell_type": "code",
   "execution_count": 124,
   "metadata": {},
   "outputs": [
    {
     "data": {
      "text/plain": [
       "'def zero_pad(img, pwx, pwy):\\n    \"\"\"Pads a given image with zero at the border.\"\"\"\\n    padded_img = copy.deepcopy(img)\\n    for i in range(pwx):\\n        padded_img.insert(0, [0 for value in enumerate(padded_img[i])])\\n        padded_img.insert(len(padded_img), [0 for value in enumerate(padded_img[-1])])\\n    for i, row in enumerate(padded_img):\\n        for j in range(pwy):\\n            row.insert(0, 0)\\n            row.insert(len(row), 0)\\n    return padded_img'"
      ]
     },
     "execution_count": 124,
     "metadata": {},
     "output_type": "execute_result"
    }
   ],
   "source": [
    "'''def zero_pad(img, pwx, pwy):\n",
    "    \"\"\"Pads a given image with zero at the border.\"\"\"\n",
    "    padded_img = copy.deepcopy(img)\n",
    "    for i in range(pwx):\n",
    "        padded_img.insert(0, [0 for value in enumerate(padded_img[i])])\n",
    "        padded_img.insert(len(padded_img), [0 for value in enumerate(padded_img[-1])])\n",
    "    for i, row in enumerate(padded_img):\n",
    "        for j in range(pwy):\n",
    "            row.insert(0, 0)\n",
    "            row.insert(len(row), 0)\n",
    "    return padded_img'''"
   ]
  },
  {
   "cell_type": "code",
   "execution_count": 125,
   "metadata": {},
   "outputs": [
    {
     "data": {
      "text/plain": [
       "'def crop(img, xmin, xmax, ymin, ymax):\\n    \"\"\"Crops a given image.\"\"\"\\n    if len(img) < xmax:\\n        print(\\'WARNING\\')\\n    patch = img[xmin: xmax]\\n    patch = [row[ymin: ymax] for row in patch]\\n    return patch'"
      ]
     },
     "execution_count": 125,
     "metadata": {},
     "output_type": "execute_result"
    }
   ],
   "source": [
    "'''def crop(img, xmin, xmax, ymin, ymax):\n",
    "    \"\"\"Crops a given image.\"\"\"\n",
    "    if len(img) < xmax:\n",
    "        print('WARNING')\n",
    "    patch = img[xmin: xmax]\n",
    "    patch = [row[ymin: ymax] for row in patch]\n",
    "    return patch'''"
   ]
  },
  {
   "cell_type": "code",
   "execution_count": 126,
   "metadata": {},
   "outputs": [
    {
     "data": {
      "text/plain": [
       "'def elementwise_mul(a, b):\\n    \"\"\"Elementwise multiplication.\"\"\"\\n    c = copy.deepcopy(a)\\n    for i, row in enumerate(a):\\n        for j, num in enumerate(row):\\n            c[i][j] *= b[i][j]\\n    return c'"
      ]
     },
     "execution_count": 126,
     "metadata": {},
     "output_type": "execute_result"
    }
   ],
   "source": [
    "'''def elementwise_mul(a, b):\n",
    "    \"\"\"Elementwise multiplication.\"\"\"\n",
    "    c = copy.deepcopy(a)\n",
    "    for i, row in enumerate(a):\n",
    "        for j, num in enumerate(row):\n",
    "            c[i][j] *= b[i][j]\n",
    "    return c'''"
   ]
  },
  {
   "cell_type": "code",
   "execution_count": 127,
   "metadata": {},
   "outputs": [
    {
     "data": {
      "text/plain": [
       "'def flip_x(img):\\n    \"\"\"Flips a given image along x axis.\"\"\"\\n    flipped_img = copy.deepcopy(img)\\n    center = int(len(img) / 2)\\n    for i in range(center):\\n        flipped_img[i] = img[(len(img) - 1) - i]\\n        flipped_img[(len(img) - 1) - i] = img[i]\\n    return flipped_img'"
      ]
     },
     "execution_count": 127,
     "metadata": {},
     "output_type": "execute_result"
    }
   ],
   "source": [
    "'''def flip_x(img):\n",
    "    \"\"\"Flips a given image along x axis.\"\"\"\n",
    "    flipped_img = copy.deepcopy(img)\n",
    "    center = int(len(img) / 2)\n",
    "    for i in range(center):\n",
    "        flipped_img[i] = img[(len(img) - 1) - i]\n",
    "        flipped_img[(len(img) - 1) - i] = img[i]\n",
    "    return flipped_img'''"
   ]
  },
  {
   "cell_type": "code",
   "execution_count": 128,
   "metadata": {},
   "outputs": [
    {
     "data": {
      "text/plain": [
       "'def flip_y(img):\\n    \"\"\"Flips a given image along y axis.\"\"\"\\n    flipped_img = copy.deepcopy(img)\\n    center = int(len(img[0]) / 2)\\n    for i, row in enumerate(img):\\n        for j in range(center):\\n            flipped_img[i][j] = img[i][(len(img[0]) - 1) - j]\\n            flipped_img[i][(len(img[0]) - 1) - j] = img[i][j]\\n    return flipped_img'"
      ]
     },
     "execution_count": 128,
     "metadata": {},
     "output_type": "execute_result"
    }
   ],
   "source": [
    "'''def flip_y(img):\n",
    "    \"\"\"Flips a given image along y axis.\"\"\"\n",
    "    flipped_img = copy.deepcopy(img)\n",
    "    center = int(len(img[0]) / 2)\n",
    "    for i, row in enumerate(img):\n",
    "        for j in range(center):\n",
    "            flipped_img[i][j] = img[i][(len(img[0]) - 1) - j]\n",
    "            flipped_img[i][(len(img[0]) - 1) - j] = img[i][j]\n",
    "    return flipped_img'''"
   ]
  },
  {
   "cell_type": "code",
   "execution_count": 129,
   "metadata": {},
   "outputs": [
    {
     "data": {
      "text/plain": [
       "'def flip2d(img, axis=None):\\n    \"\"\"Flips an image along a given axis.\\n\\n    Hints:\\n        Use the function flip_x and flip_y.\\n\\n    Args:\\n        img: nested list (int), the image to be flipped.\\n        axis (int or None): the axis along which img is flipped.\\n            if axix is None, img is flipped both along x axis and y axis.\\n\\n    Returns:\\n        flipped_img: nested list (int), the flipped image.\\n    \"\"\"\\n    \\n    # TODO: implement this function.\\n    #raise NotImplementedError\\n    a=0\\n    a= flip_x(img)\\n    flipped_img= flip_y(a)\\n    return flipped_img'"
      ]
     },
     "execution_count": 129,
     "metadata": {},
     "output_type": "execute_result"
    }
   ],
   "source": [
    "'''def flip2d(img, axis=None):\n",
    "    \"\"\"Flips an image along a given axis.\n",
    "\n",
    "    Hints:\n",
    "        Use the function flip_x and flip_y.\n",
    "\n",
    "    Args:\n",
    "        img: nested list (int), the image to be flipped.\n",
    "        axis (int or None): the axis along which img is flipped.\n",
    "            if axix is None, img is flipped both along x axis and y axis.\n",
    "\n",
    "    Returns:\n",
    "        flipped_img: nested list (int), the flipped image.\n",
    "    \"\"\"\n",
    "    \n",
    "    # TODO: implement this function.\n",
    "    #raise NotImplementedError\n",
    "    a=0\n",
    "    a= flip_x(img)\n",
    "    flipped_img= flip_y(a)\n",
    "    return flipped_img'''"
   ]
  },
  {
   "cell_type": "code",
   "execution_count": 130,
   "metadata": {},
   "outputs": [],
   "source": [
    "def convolve2d(img, kernel):\n",
    "    \"\"\"Convolves a given image and a given kernel.\n",
    "\n",
    "    Steps:\n",
    "        (1) flips the either the img or the kernel.\n",
    "        (2) pads the img or the flipped img.\n",
    "            this step handles pixels along the border of the img,\n",
    "            and makes sure that the output img is of the same size as the input image.\n",
    "        (3) applies the flipped kernel to the image or the kernel to the flipped image,\n",
    "            using nested for loop.\n",
    "\n",
    "    Args:\n",
    "        img: nested list (int), image.\n",
    "        kernel: nested list (int), kernel.\n",
    "\n",
    "    Returns:\n",
    "        img_conv: nested list (int), image.\n",
    "    \"\"\"\n",
    "    # TODO: implement this function.\n",
    "    img = img.tolist()\n",
    "    img_conv = img.copy()\n",
    "    kernel = utils.flip2d(kernel,axis=None)\n",
    "    zimg = utils.zero_pad(img,1,1)\n",
    "    for i in range (len(zimg)-2):   \n",
    "        for j in range (len(zimg)-2):\n",
    "            a= utils.crop(zimg,i,i+3,j,j+3)\n",
    "            b= utils.elementwise_mul(a,kernel)\n",
    "            img_conv[i][j]= np.sum(b)\n",
    "    return np.asarray(img_conv)"
   ]
  },
  {
   "cell_type": "code",
   "execution_count": 131,
   "metadata": {},
   "outputs": [],
   "source": [
    "def normalize(img):\n",
    "    \"\"\"Normalizes a given image.\n",
    "\n",
    "    Hints:\n",
    "        Noralize a given image using the following equation:\n",
    "\n",
    "        normalized_img = frac{img - min(img)}{max(img) - min(img)},\n",
    "\n",
    "        so that the maximum pixel value is 255 and the minimum pixel value is 0.\n",
    "\n",
    "    Args:\n",
    "        img: nested list (int), image.\n",
    "\n",
    "    Returns:\n",
    "        normalized_img: nested list (int), normalized image.\n",
    "    \"\"\"\n",
    "    mini = img[0][0]\n",
    "    maxi = img[0][0]\n",
    "    for i, row in enumerate (img):\n",
    "        for j,col in enumerate (row):\n",
    "            if mini > img[i][j]:\n",
    "                mini = img[i][j]\n",
    "            elif maxi < img[i][j]:\n",
    "                maxi = img[i][j]\n",
    "    img = np.divide((img-mini),(maxi-mini))*len(img)\n",
    "    return (img)\n"
   ]
  },
  {
   "cell_type": "code",
   "execution_count": 132,
   "metadata": {},
   "outputs": [],
   "source": [
    "def detect_edges(img, kernel, norm=True):\n",
    "    \"\"\"Detects edges using a given kernel.\n",
    "\n",
    "    Args:\n",
    "        img: nested list (int), image.\n",
    "        kernel: nested list (int), kernel used to detect edges.\n",
    "        norm (bool): whether to normalize the image or not.\n",
    "\n",
    "    Returns:\n",
    "        img_edge: nested list (int), image containing detected edges.\n",
    "    \"\"\"\n",
    "    \n",
    "    # TODO: detect edges using convolve2d and normalize the image containing detected edges using normalize.\n",
    "    if(norm==True):\n",
    "        return normalize(convolve2d(img, kernel))\n",
    "    else:\n",
    "        return convolve2d(img, kernel)\n",
    "    #raise NotImplementedError"
   ]
  },
  {
   "cell_type": "code",
   "execution_count": 133,
   "metadata": {},
   "outputs": [],
   "source": [
    "def edge_magnitude(edge_x, edge_y):\n",
    "    \"\"\"Calculate magnitude of edges by combining edges along two orthogonal directions.\n",
    "\n",
    "    Hints:\n",
    "        Combine edges along two orthogonal directions using the following equation:\n",
    "\n",
    "        edge_mag = sqrt(edge_x ** 2 + edge_y **2).\n",
    "\n",
    "        Make sure that you normalize the edge_mag, so that the maximum pixel value is 1.\n",
    "\n",
    "    Args:\n",
    "        edge_x: nested list (int), image containing detected edges along one direction.\n",
    "        edge_y: nested list (int), image containing detected edges along another direction.\n",
    "\n",
    "    Returns:\n",
    "        edge_mag: nested list (int), image containing magnitude of detected edges.\n",
    "    \"\"\"\n",
    "    # TODO: implement this function.\n",
    "     #raise NotImplementedError\n",
    "    \n",
    "    edge_xx = edge_x.copy()\n",
    "    edge_yy = edge_y.copy()\n",
    "    \n",
    "    for i in range(len(edge_xx)):\n",
    "        for j in range(len(edge_yy)):\n",
    "            edge_xx[i][j] = edge_x[i][j]**2\n",
    "            edge_yy[i][j] = edge_y[i][j]**2\n",
    "            \n",
    "    edge_sum = utils.elementwise_add(edge_xx,edge_yy)\n",
    "    return np.sqrt(edge_sum)\n"
   ]
  },
  {
   "cell_type": "code",
   "execution_count": 134,
   "metadata": {},
   "outputs": [],
   "source": [
    "img = cv2.imread('data/proj1-task1.jpg',0)"
   ]
  },
  {
   "cell_type": "code",
   "execution_count": 135,
   "metadata": {},
   "outputs": [
    {
     "data": {
      "text/plain": [
       "True"
      ]
     },
     "execution_count": 135,
     "metadata": {},
     "output_type": "execute_result"
    }
   ],
   "source": [
    "convolved_x_image = detect_edges(img,kernel_x,False)\n",
    "cv2.imwrite('trial_x.jpg',convolved_x_image)"
   ]
  },
  {
   "cell_type": "code",
   "execution_count": 136,
   "metadata": {},
   "outputs": [
    {
     "data": {
      "text/plain": [
       "True"
      ]
     },
     "execution_count": 136,
     "metadata": {},
     "output_type": "execute_result"
    }
   ],
   "source": [
    "convolved_y_image = detect_edges(img,kernel_y,False)\n",
    "cv2.imwrite('trial_y.jpg',convolved_y_image)"
   ]
  },
  {
   "cell_type": "code",
   "execution_count": 137,
   "metadata": {},
   "outputs": [
    {
     "data": {
      "text/plain": [
       "True"
      ]
     },
     "execution_count": 137,
     "metadata": {},
     "output_type": "execute_result"
    }
   ],
   "source": [
    "mag_edge = edge_magnitude(convolved_x_image,convolved_y_image)\n",
    "cv2.imwrite('trial_both.jpg',mag_edge)"
   ]
  },
  {
   "cell_type": "markdown",
   "metadata": {},
   "source": []
  },
  {
   "cell_type": "code",
   "execution_count": 138,
   "metadata": {},
   "outputs": [
    {
     "data": {
      "text/plain": [
       "'def main():\\n    args = parse_args()\\n\\n    img = read_image(args.img_path)\\n\\n    if args.kernel in [\"prewitt\", \"Prewitt\"]:\\n        kernel_x = prewitt_x\\n        kernel_y = prewitt_y\\n    elif args.kernel in [\"sobel\", \"Sobel\"]:\\n        kernel_x = sobel_x\\n        kernel_y = sobel_y\\n    else:\\n        raise ValueError(\"Kernel type not recognized.\")\\n\\n    if not os.path.exists(args.rs_directory):\\n        os.makedirs(args.rs_directory)\\n\\n    img_edge_x = detect_edges(img, kernel_x, False)\\n    img_edge_x = np.asarray(img_edge_x)\\n    write_image(normalize(img_edge_x), os.path.join(args.rs_directory, \"{}_edge_x.jpg\".format(args.kernel.lower())))\\n\\n    img_edge_y = detect_edges(img, kernel_y, False)\\n    img_edge_y = np.asarray(img_edge_y)\\n    write_image(normalize(img_edge_y), os.path.join(args.rs_directory, \"{}_edge_y.jpg\".format(args.kernel.lower())))\\n\\n    img_edges = edge_magnitude(img_edge_x, img_edge_y)\\n    write_image(img_edges, os.path.join(args.rs_directory, \"{}_edge_mag.jpg\".format(args.kernel.lower())))\\n\\n\\nif __name__ == \"__main__\":\\n    main()'"
      ]
     },
     "execution_count": 138,
     "metadata": {},
     "output_type": "execute_result"
    }
   ],
   "source": [
    "'''def main():\n",
    "    args = parse_args()\n",
    "\n",
    "    img = read_image(args.img_path)\n",
    "\n",
    "    if args.kernel in [\"prewitt\", \"Prewitt\"]:\n",
    "        kernel_x = prewitt_x\n",
    "        kernel_y = prewitt_y\n",
    "    elif args.kernel in [\"sobel\", \"Sobel\"]:\n",
    "        kernel_x = sobel_x\n",
    "        kernel_y = sobel_y\n",
    "    else:\n",
    "        raise ValueError(\"Kernel type not recognized.\")\n",
    "\n",
    "    if not os.path.exists(args.rs_directory):\n",
    "        os.makedirs(args.rs_directory)\n",
    "\n",
    "    img_edge_x = detect_edges(img, kernel_x, False)\n",
    "    img_edge_x = np.asarray(img_edge_x)\n",
    "    write_image(normalize(img_edge_x), os.path.join(args.rs_directory, \"{}_edge_x.jpg\".format(args.kernel.lower())))\n",
    "\n",
    "    img_edge_y = detect_edges(img, kernel_y, False)\n",
    "    img_edge_y = np.asarray(img_edge_y)\n",
    "    write_image(normalize(img_edge_y), os.path.join(args.rs_directory, \"{}_edge_y.jpg\".format(args.kernel.lower())))\n",
    "\n",
    "    img_edges = edge_magnitude(img_edge_x, img_edge_y)\n",
    "    write_image(img_edges, os.path.join(args.rs_directory, \"{}_edge_mag.jpg\".format(args.kernel.lower())))\n",
    "\n",
    "\n",
    "if __name__ == \"__main__\":\n",
    "    main()'''"
   ]
  }
 ],
 "metadata": {
  "kernelspec": {
   "display_name": "Python 3",
   "language": "python",
   "name": "python3"
  },
  "language_info": {
   "codemirror_mode": {
    "name": "ipython",
    "version": 3
   },
   "file_extension": ".py",
   "mimetype": "text/x-python",
   "name": "python",
   "nbconvert_exporter": "python",
   "pygments_lexer": "ipython3",
   "version": "3.7.4"
  }
 },
 "nbformat": 4,
 "nbformat_minor": 2
}
