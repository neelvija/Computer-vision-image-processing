{
 "cells": [
  {
   "cell_type": "code",
   "execution_count": 7,
   "metadata": {},
   "outputs": [],
   "source": [
    "import copy\n",
    "\n",
    "import cv2"
   ]
  },
  {
   "cell_type": "code",
   "execution_count": 34,
   "metadata": {},
   "outputs": [],
   "source": [
    "def zero_pad(img, pwx, pwy):\n",
    "    \"\"\"Pads a given image with zero at the border.\"\"\"\n",
    "    padded_img = copy.deepcopy(img)\n",
    "    for i in range(pwx):\n",
    "        padded_img.insert(0, [0 for value in enumerate(padded_img[i])])\n",
    "        padded_img.insert(len(padded_img), [0 for value in enumerate(padded_img[-1])])\n",
    "    for i, row in enumerate(padded_img):\n",
    "        for j in range(pwy):\n",
    "            row.insert(0, 0)\n",
    "            row.insert(len(row), 0)\n",
    "    return padded_img"
   ]
  },
  {
   "cell_type": "code",
   "execution_count": 9,
   "metadata": {},
   "outputs": [],
   "source": [
    "def crop(img, xmin, xmax, ymin, ymax):\n",
    "    \"\"\"Crops a given image.\"\"\"\n",
    "    if len(img) < xmax:\n",
    "        print('WARNING')\n",
    "    patch = img[xmin: xmax]\n",
    "    patch = [row[ymin: ymax] for row in patch]\n",
    "    return patch"
   ]
  },
  {
   "cell_type": "code",
   "execution_count": 10,
   "metadata": {},
   "outputs": [],
   "source": [
    "def elementwise_add(a, b):\n",
    "    \"\"\"Elementwise addition.\"\"\"\n",
    "    c = copy.deepcopy(a)\n",
    "    for i, row in enumerate(a):\n",
    "        for j, num in enumerate(row):\n",
    "            c[i][j] += b[i][j]\n",
    "    return c"
   ]
  },
  {
   "cell_type": "code",
   "execution_count": 11,
   "metadata": {},
   "outputs": [],
   "source": [
    "def elementwise_sub(a, b):\n",
    "    \"\"\"Elementwise substraction.\"\"\"\n",
    "    c = copy.deepcopy(a)\n",
    "    for i, row in enumerate(a):\n",
    "        for j, num in enumerate(row):\n",
    "            c[i][j] -= b[i][j]\n",
    "    return c"
   ]
  },
  {
   "cell_type": "code",
   "execution_count": 12,
   "metadata": {},
   "outputs": [],
   "source": [
    "def elementwise_mul(a, b):\n",
    "    \"\"\"Elementwise multiplication.\"\"\"\n",
    "    c = copy.deepcopy(a)\n",
    "    for i, row in enumerate(a):\n",
    "        for j, num in enumerate(row):\n",
    "            c[i][j] *= b[i][j]\n",
    "    return c"
   ]
  },
  {
   "cell_type": "code",
   "execution_count": 13,
   "metadata": {},
   "outputs": [],
   "source": [
    "def elementwise_div(a, b):\n",
    "    \"\"\"Elementwise division.\"\"\"\n",
    "    c = copy.deepcopy(a)\n",
    "    for i, row in enumerate(a):\n",
    "        for j, num in enumerate(row):\n",
    "            c[i][j] /= b[i][j]\n",
    "    return c"
   ]
  },
  {
   "cell_type": "code",
   "execution_count": 14,
   "metadata": {},
   "outputs": [],
   "source": [
    "def flip_x(img):\n",
    "    \"\"\"Flips a given image along x axis.\"\"\"\n",
    "    flipped_img = copy.deepcopy(img)\n",
    "    center = int(len(img) / 2)\n",
    "    for i in range(center):\n",
    "        flipped_img[i] = img[(len(img) - 1) - i]\n",
    "        flipped_img[(len(img) - 1) - i] = img[i]\n",
    "    return flipped_img"
   ]
  },
  {
   "cell_type": "code",
   "execution_count": 15,
   "metadata": {},
   "outputs": [],
   "source": [
    "def flip_y(img):\n",
    "    \"\"\"Flips a given image along y axis.\"\"\"\n",
    "    flipped_img = copy.deepcopy(img)\n",
    "    center = int(len(img[0]) / 2)\n",
    "    for i, row in enumerate(img):\n",
    "        for j in range(center):\n",
    "            flipped_img[i][j] = img[i][(len(img[0]) - 1) - j]\n",
    "            flipped_img[i][(len(img[0]) - 1) - j] = img[i][j]\n",
    "    return flipped_img"
   ]
  },
  {
   "cell_type": "code",
   "execution_count": 30,
   "metadata": {},
   "outputs": [],
   "source": [
    "def flip2d(img, axis=None):\n",
    "    \"\"\"Flips an image along a given axis.\n",
    "\n",
    "    Hints:\n",
    "        Use the function flip_x and flip_y.\n",
    "\n",
    "    Args:\n",
    "        img: nested list (int), the image to be flipped.\n",
    "        axis (int or None): the axis along which img is flipped.\n",
    "            if axix is None, img is flipped both along x axis and y axis.\n",
    "\n",
    "    Returns:\n",
    "        flipped_img: nested list (int), the flipped image.\n",
    "    \"\"\"\n",
    "    # TODO: implement this function.\n",
    "    if axis==\"x\" or axis==\"X\":\n",
    "        flipped_img =flip_x(img)\n",
    "    elif axis==\"y\" or axis==\"Y\":\n",
    "        flipped_img = flip_y(img)\n",
    "    elif axis is None:\n",
    "        flipped_img = flip_x(flip_y(img))\n",
    "    else:\n",
    "        raise NotImplementedError\n",
    "    return flipped_img"
   ]
  }
 ],
 "metadata": {
  "kernelspec": {
   "display_name": "Python 3",
   "language": "python",
   "name": "python3"
  },
  "language_info": {
   "codemirror_mode": {
    "name": "ipython",
    "version": 3
   },
   "file_extension": ".py",
   "mimetype": "text/x-python",
   "name": "python",
   "nbconvert_exporter": "python",
   "pygments_lexer": "ipython3",
   "version": "3.7.4"
  }
 },
 "nbformat": 4,
 "nbformat_minor": 2
}
