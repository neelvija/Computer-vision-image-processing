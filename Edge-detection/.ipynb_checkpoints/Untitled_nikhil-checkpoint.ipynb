{
 "cells": [
  {
   "cell_type": "code",
   "execution_count": 17,
   "metadata": {
    "scrolled": true
   },
   "outputs": [
    {
     "data": {
      "text/plain": [
       "\"\\nCharacter Detection\\n\\nThe goal of this task is to experiment with template matching techniques. Specifically, the task is to find ALL of\\nthe coordinates where a specific character appears using template matching.\\n\\nThere are 3 sub tasks:\\n1. Detect character 'a'.\\n2. Detect character 'b'.\\n3. Detect character 'c'.\\n\\nYou need to customize your own templates. The templates containing character 'a', 'b' and 'c' should be named as\\n'a.jpg', 'b.jpg', 'c.jpg' and stored in './data/' folder.\\n\\nPlease complete all the functions that are labelled with '# TODO'. Whem implementing the functions,\\ncomment the lines 'raise NotImplementedError' instead of deleting them. The functions defined in utils.py\\nand the functions you implement in task1.py are of great help.\\n\\nDo NOT modify the code provided.\\nDo NOT use any API provided by opencv (cv2) and numpy (np) in your code.\\nDo NOT import any library (function, module, etc.).\\n\""
      ]
     },
     "execution_count": 17,
     "metadata": {},
     "output_type": "execute_result"
    }
   ],
   "source": [
    "\"\"\"\n",
    "Character Detection\n",
    "\n",
    "The goal of this task is to experiment with template matching techniques. Specifically, the task is to find ALL of\n",
    "the coordinates where a specific character appears using template matching.\n",
    "\n",
    "There are 3 sub tasks:\n",
    "1. Detect character 'a'.\n",
    "2. Detect character 'b'.\n",
    "3. Detect character 'c'.\n",
    "\n",
    "You need to customize your own templates. The templates containing character 'a', 'b' and 'c' should be named as\n",
    "'a.jpg', 'b.jpg', 'c.jpg' and stored in './data/' folder.\n",
    "\n",
    "Please complete all the functions that are labelled with '# TODO'. Whem implementing the functions,\n",
    "comment the lines 'raise NotImplementedError' instead of deleting them. The functions defined in utils.py\n",
    "and the functions you implement in task1.py are of great help.\n",
    "\n",
    "Do NOT modify the code provided.\n",
    "Do NOT use any API provided by opencv (cv2) and numpy (np) in your code.\n",
    "Do NOT import any library (function, module, etc.).\n",
    "\"\"\""
   ]
  },
  {
   "cell_type": "code",
   "execution_count": 18,
   "metadata": {},
   "outputs": [],
   "source": [
    "import argparse\n",
    "import json\n",
    "import os\n",
    "\n",
    "import numpy\n",
    "import utils\n",
    "import task1   # you could modify this line"
   ]
  },
  {
   "cell_type": "code",
   "execution_count": 19,
   "metadata": {},
   "outputs": [],
   "source": [
    "def parse_args():\n",
    "    parser = argparse.ArgumentParser(description=\"cse 473/573 project 1.\")\n",
    "    parser.add_argument(\n",
    "        \"--img_path\", type=str, default=\"./data/characters.jpg\",\n",
    "        help=\"path to the image used for character detection (do not change this arg)\")\n",
    "    parser.add_argument(\n",
    "        \"--template_path\", type=str, default=\"\",\n",
    "        choices=[\"./data/a.jpg\", \"./data/b.jpg\", \"./data/c.jpg\"],\n",
    "        help=\"path to the template image\")\n",
    "    parser.add_argument(\n",
    "        \"--result_saving_directory\", dest=\"rs_directory\", type=str, default=\"./results/\",\n",
    "        help=\"directory to which results are saved (do not change this arg)\")\n",
    "    args = parser.parse_args()\n",
    "    return args"
   ]
  },
  {
   "cell_type": "code",
   "execution_count": 20,
   "metadata": {},
   "outputs": [],
   "source": [
    "def detect(img, template):\n",
    "    \"\"\"Detect a given character, i.e., the character in the template image.\n",
    "\n",
    "    Args:\n",
    "        img: nested list (int), image that contains character to be detected.\n",
    "        template: nested list (int), template image.\n",
    "\n",
    "    Returns:\n",
    "        coordinates: list (tuple), a list whose elements are coordinates where the character appears.\n",
    "            format of the tuple: (x (int), y (int)), x and y are integers.\n",
    "            x: row that the character appears (starts from 0).\n",
    "            y: column that the character appears (starts from 0).\n",
    "    \"\"\"\n",
    "    # TODO: implement this function.\n",
    "    #raise NotImplementedError\n",
    "    template_sum = np.sum(template)\n",
    "    template_mean = template_sum/(len(template)*len(template[0]))\n",
    "    coordinates_incrementor = 0 \n",
    "    for row in range(len(img)-len(template)):\n",
    "        for column in range(len(img[0])-len(template[0])):\n",
    "            \n",
    "            cropped_img = utils.crop(img,row,row+len(template),column,column+len(template[0]))\n",
    "            \n",
    "            cross_corr = 0\n",
    "            cropped_img_sum = np.sum(cropped_img)\n",
    "            cropped_img_mean = cropped_img_sum/(len(cropped_img)*len(cropped_img[0]))\n",
    "            \n",
    "            numerator = np.sum(np.multiply((template-template_mean),(cropped_img-cropped_img_mean)))\n",
    "            denominator1,denominator2=0\n",
    "            for row in range(len(template)):\n",
    "                for column in range(len(template[0])):\n",
    "                    denominator1 += (template[row][column]-template_mean)**2\n",
    "                    denominator2 += (patch[row][column]-cropped_img_mean)**2\n",
    "            if densum1*densum2 != 0:\n",
    "                cross_corr = munerator/(denominator1*denominator*0.5)\n",
    "                if(cross_corr>0.8):\n",
    "                    coordinates[coordinates_incrementor] = (row,column)\n",
    "                        \n",
    "    return coordinates"
   ]
  },
  {
   "cell_type": "code",
   "execution_count": 21,
   "metadata": {},
   "outputs": [],
   "source": [
    "def save_results(coordinates, template, template_name, rs_directory):\n",
    "    results = {}\n",
    "    results[\"coordinates\"] = sorted(coordinates, key=lambda x: x[0])\n",
    "    results[\"templat_size\"] = (len(template), len(template[0]))\n",
    "    with open(os.path.join(rs_directory, template_name), \"w\") as file:\n",
    "        json.dump(results, file)"
   ]
  },
  {
   "cell_type": "code",
   "execution_count": 22,
   "metadata": {},
   "outputs": [
    {
     "data": {
      "text/plain": [
       "'def main():\\n    args = parse_args()\\n\\n    img = read_image(args.img_path)\\n    template = read_image(args.template_path)\\n\\n    coordinates = detect(img, template)\\n\\n    template_name = \"{}.json\".format(os.path.splitext(os.path.split(args.template_path)[1])[0])\\n    save_results(coordinates, template, template_name, args.rs_directory)\\n\\n\\nif __name__ == \"__main__\":\\n    main()'"
      ]
     },
     "execution_count": 22,
     "metadata": {},
     "output_type": "execute_result"
    }
   ],
   "source": [
    "\"\"\"def main():\n",
    "    args = parse_args()\n",
    "\n",
    "    img = read_image(args.img_path)\n",
    "    template = read_image(args.template_path)\n",
    "\n",
    "    coordinates = detect(img, template)\n",
    "\n",
    "    template_name = \"{}.json\".format(os.path.splitext(os.path.split(args.template_path)[1])[0])\n",
    "    save_results(coordinates, template, template_name, args.rs_directory)\n",
    "\n",
    "\n",
    "if __name__ == \"__main__\":\n",
    "    main()\"\"\""
   ]
  },
  {
   "cell_type": "code",
   "execution_count": 23,
   "metadata": {},
   "outputs": [],
   "source": [
    "img = task1.read_image('data/proj1-task2-png.png')"
   ]
  },
  {
   "cell_type": "code",
   "execution_count": 24,
   "metadata": {},
   "outputs": [],
   "source": [
    "template = task1.read_image('data/a.png')"
   ]
  },
  {
   "cell_type": "code",
   "execution_count": 25,
   "metadata": {},
   "outputs": [
    {
     "ename": "NameError",
     "evalue": "name 'np' is not defined",
     "output_type": "error",
     "traceback": [
      "\u001b[0;31m---------------------------------------------------------------------------\u001b[0m",
      "\u001b[0;31mNameError\u001b[0m                                 Traceback (most recent call last)",
      "\u001b[0;32m<ipython-input-25-b8f427e6cc65>\u001b[0m in \u001b[0;36m<module>\u001b[0;34m\u001b[0m\n\u001b[0;32m----> 1\u001b[0;31m \u001b[0mcoordinates\u001b[0m \u001b[0;34m=\u001b[0m \u001b[0mdetect\u001b[0m\u001b[0;34m(\u001b[0m\u001b[0mimg\u001b[0m\u001b[0;34m,\u001b[0m\u001b[0mtemplate\u001b[0m\u001b[0;34m)\u001b[0m\u001b[0;34m\u001b[0m\u001b[0;34m\u001b[0m\u001b[0m\n\u001b[0m\u001b[1;32m      2\u001b[0m \u001b[0mcoordinates\u001b[0m\u001b[0;34m\u001b[0m\u001b[0;34m\u001b[0m\u001b[0m\n",
      "\u001b[0;32m<ipython-input-20-efbb595a3048>\u001b[0m in \u001b[0;36mdetect\u001b[0;34m(img, template)\u001b[0m\n\u001b[1;32m     14\u001b[0m     \u001b[0;31m# TODO: implement this function.\u001b[0m\u001b[0;34m\u001b[0m\u001b[0;34m\u001b[0m\u001b[0;34m\u001b[0m\u001b[0m\n\u001b[1;32m     15\u001b[0m     \u001b[0;31m#raise NotImplementedError\u001b[0m\u001b[0;34m\u001b[0m\u001b[0;34m\u001b[0m\u001b[0;34m\u001b[0m\u001b[0m\n\u001b[0;32m---> 16\u001b[0;31m     \u001b[0mtemplate_sum\u001b[0m \u001b[0;34m=\u001b[0m \u001b[0mnp\u001b[0m\u001b[0;34m.\u001b[0m\u001b[0msum\u001b[0m\u001b[0;34m(\u001b[0m\u001b[0mtemplate\u001b[0m\u001b[0;34m)\u001b[0m\u001b[0;34m\u001b[0m\u001b[0;34m\u001b[0m\u001b[0m\n\u001b[0m\u001b[1;32m     17\u001b[0m     \u001b[0mtemplate_mean\u001b[0m \u001b[0;34m=\u001b[0m \u001b[0mtemplate_sum\u001b[0m\u001b[0;34m/\u001b[0m\u001b[0;34m(\u001b[0m\u001b[0mlen\u001b[0m\u001b[0;34m(\u001b[0m\u001b[0mtemplate\u001b[0m\u001b[0;34m)\u001b[0m\u001b[0;34m*\u001b[0m\u001b[0mlen\u001b[0m\u001b[0;34m(\u001b[0m\u001b[0mtemplate\u001b[0m\u001b[0;34m[\u001b[0m\u001b[0;36m0\u001b[0m\u001b[0;34m]\u001b[0m\u001b[0;34m)\u001b[0m\u001b[0;34m)\u001b[0m\u001b[0;34m\u001b[0m\u001b[0;34m\u001b[0m\u001b[0m\n\u001b[1;32m     18\u001b[0m     \u001b[0mcoordinates_incrementor\u001b[0m \u001b[0;34m=\u001b[0m \u001b[0;36m0\u001b[0m\u001b[0;34m\u001b[0m\u001b[0;34m\u001b[0m\u001b[0m\n",
      "\u001b[0;31mNameError\u001b[0m: name 'np' is not defined"
     ]
    }
   ],
   "source": [
    "coordinates = detect(img,template)\n",
    "coordinates"
   ]
  }
 ],
 "metadata": {
  "kernelspec": {
   "display_name": "Python 3",
   "language": "python",
   "name": "python3"
  },
  "language_info": {
   "codemirror_mode": {
    "name": "ipython",
    "version": 3
   },
   "file_extension": ".py",
   "mimetype": "text/x-python",
   "name": "python",
   "nbconvert_exporter": "python",
   "pygments_lexer": "ipython3",
   "version": "3.7.4"
  }
 },
 "nbformat": 4,
 "nbformat_minor": 2
}
