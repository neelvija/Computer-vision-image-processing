{
 "cells": [
  {
   "cell_type": "code",
   "execution_count": 992,
   "metadata": {},
   "outputs": [
    {
     "data": {
      "text/plain": [
       "\"\\nEdge Detection\\n\\nThe goal of this task is to experiment with two commonly used edge detection operator, i.e., Prewitt operator and Sobel operator,\\nand familiarize you with 'tricks', e.g., padding, commonly used by computer vision 'researchers'.\\n\\nPlease complete all the functions that are labelled with '# TODO'. Hints or steps are provided to make your lives easier.\\nWhem implementing the functions, comment the lines 'raise NotImplementedError' instead of deleting them. As we have\\nwritten lots of utility functions for you, you only need to write about 30 lines of code. The functions defined in utils.py\\nare building blocks you could use when implementing the functions labelled with 'TODO'.\\n\\nI strongly suggest you to read the function zero_pad that is defined in utils.py. It is quite important!\\n\\nDo NOT modify the code provided.\\nDo NOT use any API provided by opencv (cv2) and numpy (np) in your code.\\nDo NOT import any library (function, module, etc.).\\n\""
      ]
     },
     "execution_count": 992,
     "metadata": {},
     "output_type": "execute_result"
    }
   ],
   "source": [
    "\"\"\"\n",
    "Edge Detection\n",
    "\n",
    "The goal of this task is to experiment with two commonly used edge detection operator, i.e., Prewitt operator and Sobel operator,\n",
    "and familiarize you with 'tricks', e.g., padding, commonly used by computer vision 'researchers'.\n",
    "\n",
    "Please complete all the functions that are labelled with '# TODO'. Hints or steps are provided to make your lives easier.\n",
    "Whem implementing the functions, comment the lines 'raise NotImplementedError' instead of deleting them. As we have\n",
    "written lots of utility functions for you, you only need to write about 30 lines of code. The functions defined in utils.py\n",
    "are building blocks you could use when implementing the functions labelled with 'TODO'.\n",
    "\n",
    "I strongly suggest you to read the function zero_pad that is defined in utils.py. It is quite important!\n",
    "\n",
    "Do NOT modify the code provided.\n",
    "Do NOT use any API provided by opencv (cv2) and numpy (np) in your code.\n",
    "Do NOT import any library (function, module, etc.).\n",
    "\"\"\""
   ]
  },
  {
   "cell_type": "code",
   "execution_count": 993,
   "metadata": {},
   "outputs": [],
   "source": [
    "import argparse\n",
    "import copy\n",
    "import os\n",
    "import math\n",
    "import cv2\n",
    "import numpy as np\n",
    "\n",
    "import utils"
   ]
  },
  {
   "cell_type": "code",
   "execution_count": 994,
   "metadata": {},
   "outputs": [],
   "source": [
    "# Prewitt operator\n",
    "prewitt_x = [[1, 0, -1]] * 3\n",
    "prewitt_y = [[1] * 3, [0] * 3, [-1] * 3]\n",
    "\n",
    "# Sobel operator\n",
    "sobel_x = [[1, 0, -1], [2, 0, -2], [1, 0, -1]]\n",
    "sobel_y = [[-1, -2, -1], [0, 0, 0], [1, 2, 1]]"
   ]
  },
  {
   "cell_type": "code",
   "execution_count": 995,
   "metadata": {},
   "outputs": [],
   "source": [
    "kernel_x=prewitt_x\n",
    "kernel_y=prewitt_y"
   ]
  },
  {
   "cell_type": "code",
   "execution_count": 996,
   "metadata": {},
   "outputs": [],
   "source": [
    "def parse_args():\n",
    "    parser = argparse.ArgumentParser(description=\"cse 473/573 project 1.\")\n",
    "    parser.add_argument(\n",
    "        \"--img_path\", type=str, default=\"\",\n",
    "        help=\"path to the image used for edge detection\")\n",
    "    parser.add_argument(\n",
    "        \"--kernel\", type=str, default=\"sobel\",\n",
    "        choices=[\"prewitt\", \"sobel\", \"Prewitt\", \"Sobel\"],\n",
    "        help=\"type of edge detector used for edge detection\")\n",
    "    parser.add_argument(\n",
    "        \"--result_saving_directory\", dest=\"rs_directory\", type=str, default=\"./results/\",\n",
    "        help=\"directory to which results are saved (do not change this arg)\")\n",
    "    args = parser.parse_args()\n",
    "    return args"
   ]
  },
  {
   "cell_type": "code",
   "execution_count": 997,
   "metadata": {},
   "outputs": [],
   "source": [
    "def read_image(img_path, show=False):\n",
    "    \"\"\"Reads an image into memory as a grayscale array.\n",
    "    \"\"\"\n",
    "    img = cv2.imread(img_path, cv2.IMREAD_GRAYSCALE)\n",
    "    if not img.dtype == np.uint8:\n",
    "        pass\n",
    "\n",
    "    if show:\n",
    "        show_image(img)\n",
    "\n",
    "    img = [list(row) for row in img]\n",
    "    return img"
   ]
  },
  {
   "cell_type": "code",
   "execution_count": 998,
   "metadata": {},
   "outputs": [],
   "source": [
    "def show_image(img, delay=1000):\n",
    "    \"\"\"Shows an image.\n",
    "    \"\"\"\n",
    "    cv2.namedWindow('image', cv2.WINDOW_AUTOSIZE)\n",
    "    cv2.imshow('image', img)\n",
    "    cv2.waitKey(delay)\n",
    "    cv2.destroyAllWindows()"
   ]
  },
  {
   "cell_type": "code",
   "execution_count": 999,
   "metadata": {},
   "outputs": [],
   "source": [
    "def write_image(img, img_saving_path):\n",
    "    \"\"\"Writes an image to a given path.\n",
    "    \"\"\"\n",
    "    if isinstance(img, list):\n",
    "        img = np.asarray(img, dtype=np.uint8)\n",
    "    elif isinstance(img, np.ndarray):\n",
    "        if not img.dtype == np.uint8:\n",
    "            assert np.max(img) <= 1, \"Maximum pixel value {:.3f} is greater than 1\".format(np.max(img))\n",
    "            img = (255 * img).astype(np.uint8)\n",
    "    else:\n",
    "        raise TypeError(\"img is neither a list nor a ndarray.\")\n",
    "\n",
    "    cv2.imwrite(img_saving_path, img)"
   ]
  },
  {
   "cell_type": "code",
   "execution_count": 1000,
   "metadata": {},
   "outputs": [],
   "source": [
    "def convolve2d(img, kernel):\n",
    "    \"\"\"Convolves a given image and a given kernel.\n",
    "\n",
    "    Steps:\n",
    "        (1) flips the either the img or the kernel.\n",
    "        (2) pads the img or the flipped img.\n",
    "            this step handles pixels along the border of the img,\n",
    "            and makes sure that the output img is of the same size as the input image.\n",
    "        (3) applies the flipped kernel to the image or the kernel to the flipped image,\n",
    "            using nested for loop.\n",
    "\n",
    "    Args:\n",
    "        img: nested list (int), image.\n",
    "        kernel: nested list (int), kernel.\n",
    "\n",
    "    Returns:\n",
    "        img_conv: nested list (int), image.\n",
    "    \"\"\"\n",
    "    # TODO: implement this function.\n",
    "    #raise NotImplementedError\n",
    "    \n",
    "    img = img.tolist()\n",
    "    img_conv = img.copy()\n",
    "    flipped_kernel = utils.flip2d(kernel)\n",
    "    padded_img = utils.zero_pad(img,1,1)\n",
    "\n",
    "    for i in range(len(img)):\n",
    "        for j in range(len(img)):\n",
    "            patch = utils.crop(padded_img,i,i+3,j,j+3)\n",
    "            filtered_patch = utils.elementwise_mul(patch,kernel)\n",
    "\n",
    "            pixel_value=0\n",
    "            for k in range(len(filtered_patch)):\n",
    "                for l in range(len(filtered_patch)):\n",
    "                    pixel_value += filtered_patch[k][l]\n",
    "\n",
    "            img_conv[i][j] = pixel_value\n",
    "    img_conv = np.asarray(img_conv)\n",
    "    return img_conv"
   ]
  },
  {
   "cell_type": "code",
   "execution_count": 1001,
   "metadata": {},
   "outputs": [],
   "source": [
    "def normalize(img):\n",
    "    \"\"\"Normalizes a given image.\n",
    "\n",
    "    Hints:\n",
    "        Noralize a given image using the following equation:\n",
    "\n",
    "        normalized_img = frac{img - min(img)}{max(img) - min(img)},\n",
    "\n",
    "        so that the maximum pixel value is 255 and the minimum pixel value is 0.\n",
    "\n",
    "    Args:\n",
    "        img: nested list (int), image.\n",
    "\n",
    "    Returns:\n",
    "        normalized_img: nested list (int), normalized image.\n",
    "    \"\"\"\n",
    "    # TODO: implement this function.\n",
    "    #raise NotImplementedError\n",
    "\n",
    "    #img_array = img.tolist()\n",
    "    #img_array = img\n",
    "    #normalized_img = np.divide((img - img.min()),(img.max() - img.min()))*255\n",
    "\n",
    "    min_value = img.min()\n",
    "    max_value = img.max()\n",
    "                \n",
    "    for i in range(len(img)):\n",
    "        for j in range(len(img)):\n",
    "            img[i][j] = ((img[i][j]-min_value)/(max_value-min_value))*255\n",
    "    \n",
    "    return img\n",
    "    \n",
    "    #return normalized_img"
   ]
  },
  {
   "cell_type": "code",
   "execution_count": 1002,
   "metadata": {},
   "outputs": [],
   "source": [
    "def detect_edges(img, kernel, norm=True):\n",
    "    \"\"\"Detects edges using a given kernel.\n",
    "\n",
    "    Args:\n",
    "        img: nested list (int), image.\n",
    "        kernel: nested list (int), kernel used to detect edges.\n",
    "        norm (bool): whether to normalize the image or not.\n",
    "\n",
    "    Returns:\n",
    "        img_edge: nested list (int), image containing detected edges.\n",
    "    \"\"\"\n",
    "    # TODO: detect edges using convolve2d and normalize the image containing detected edges using normalize.\n",
    "    #raise NotImplementedError\n",
    "    \n",
    "    img_edges = convolve2d(img,kernel)\n",
    "    if norm:\n",
    "        img_edges = normalize(img_edges)\n",
    "    \n",
    "    return img_edges"
   ]
  },
  {
   "cell_type": "code",
   "execution_count": 1003,
   "metadata": {},
   "outputs": [],
   "source": [
    "def edge_magnitude(edge_x, edge_y):\n",
    "    \"\"\"Calculate magnitude of edges by combining edges along two orthogonal directions.\n",
    "\n",
    "    Hints:\n",
    "        Combine edges along two orthogonal directions using the following equation:\n",
    "\n",
    "        edge_mag = sqrt(edge_x ** 2 + edge_y **).\n",
    "\n",
    "        Make sure that you normalize the edge_mag, so that the maximum pixel value is 1.\n",
    "\n",
    "    Args:\n",
    "        edge_x: nested list (int), image containing detected edges along one direction.\n",
    "        edge_y: nested list (int), image containing detected edges along another direction.\n",
    "\n",
    "    Returns:\n",
    "        edge_mag: nested list (int), image containing magnitude of detected edges.\n",
    "    \"\"\"\n",
    "    # TODO: implement this function.\n",
    "    #raise NotImplementedError\n",
    "    \n",
    "    edge_mag = edge_x.copy()\n",
    "    for i in range(len(edge_x)):\n",
    "        for j in range(len(edge_x)):\n",
    "            edge_mag[i][j] = math.sqrt(edge_x[i][j]**2+edge_y[i][j]**2)\n",
    "    \n",
    "    edge_mag = normalize(edge_mag)\n",
    "    \n",
    "    return edge_mag"
   ]
  },
  {
   "cell_type": "code",
   "execution_count": 1004,
   "metadata": {},
   "outputs": [],
   "source": [
    "#img = read_image('data/proj1-task1.jpg',show=True)\n",
    "img = cv2.imread('data/proj1-task1.jpg',cv2.IMREAD_GRAYSCALE)"
   ]
  },
  {
   "cell_type": "code",
   "execution_count": 1005,
   "metadata": {},
   "outputs": [
    {
     "data": {
      "text/plain": [
       "[[1, 1, 1], [0, 0, 0], [-1, -1, -1]]"
      ]
     },
     "execution_count": 1005,
     "metadata": {},
     "output_type": "execute_result"
    }
   ],
   "source": [
    "kernel"
   ]
  },
  {
   "cell_type": "code",
   "execution_count": 1006,
   "metadata": {},
   "outputs": [
    {
     "data": {
      "text/plain": [
       "[[1, 0, -1], [1, 0, -1], [1, 0, -1]]"
      ]
     },
     "execution_count": 1006,
     "metadata": {},
     "output_type": "execute_result"
    }
   ],
   "source": [
    "kernel_x"
   ]
  },
  {
   "cell_type": "code",
   "execution_count": 1007,
   "metadata": {},
   "outputs": [
    {
     "data": {
      "text/plain": [
       "[[1, 1, 1], [0, 0, 0], [-1, -1, -1]]"
      ]
     },
     "execution_count": 1007,
     "metadata": {},
     "output_type": "execute_result"
    }
   ],
   "source": [
    "kernel_y"
   ]
  },
  {
   "cell_type": "code",
   "execution_count": 1008,
   "metadata": {},
   "outputs": [
    {
     "data": {
      "text/plain": [
       "True"
      ]
     },
     "execution_count": 1008,
     "metadata": {},
     "output_type": "execute_result"
    }
   ],
   "source": [
    "cv2.imwrite('trial_norm_IMG.jpg',normalize(img))"
   ]
  },
  {
   "cell_type": "code",
   "execution_count": 1009,
   "metadata": {
    "scrolled": false
   },
   "outputs": [],
   "source": [
    "convolved_x_image = detect_edges(img, kernel_x, norm=False)\n"
   ]
  },
  {
   "cell_type": "code",
   "execution_count": 1010,
   "metadata": {},
   "outputs": [
    {
     "data": {
      "text/plain": [
       "True"
      ]
     },
     "execution_count": 1010,
     "metadata": {},
     "output_type": "execute_result"
    }
   ],
   "source": [
    "cv2.imwrite('trial_x.jpg',convolved_x_image)"
   ]
  },
  {
   "cell_type": "code",
   "execution_count": 1011,
   "metadata": {},
   "outputs": [],
   "source": [
    "convolved_y_image = detect_edges(img, kernel_y, norm=False)"
   ]
  },
  {
   "cell_type": "code",
   "execution_count": 1012,
   "metadata": {},
   "outputs": [
    {
     "data": {
      "text/plain": [
       "True"
      ]
     },
     "execution_count": 1012,
     "metadata": {},
     "output_type": "execute_result"
    }
   ],
   "source": [
    "cv2.imwrite('trial_y.jpg',convolved_y_image)"
   ]
  },
  {
   "cell_type": "code",
   "execution_count": 1013,
   "metadata": {},
   "outputs": [],
   "source": [
    "mag_edges = edge_magnitude(convolved_x_image,convolved_y_image)"
   ]
  },
  {
   "cell_type": "code",
   "execution_count": 1014,
   "metadata": {},
   "outputs": [
    {
     "data": {
      "text/plain": [
       "True"
      ]
     },
     "execution_count": 1014,
     "metadata": {},
     "output_type": "execute_result"
    }
   ],
   "source": [
    "cv2.imwrite('trial_both.jpg',mag_edges)"
   ]
  },
  {
   "cell_type": "code",
   "execution_count": 1015,
   "metadata": {},
   "outputs": [],
   "source": [
    "#normalized_last = normalize(mag_edges)"
   ]
  },
  {
   "cell_type": "code",
   "execution_count": 1016,
   "metadata": {},
   "outputs": [],
   "source": [
    "#cv2.imwrite('trial_both_normalized.jpg',normalized_last)"
   ]
  },
  {
   "cell_type": "code",
   "execution_count": 1017,
   "metadata": {},
   "outputs": [],
   "source": [
    "#show_image(convolved_image)"
   ]
  },
  {
   "cell_type": "code",
   "execution_count": 1018,
   "metadata": {},
   "outputs": [
    {
     "data": {
      "text/plain": [
       "'def main():\\n    #args = parse_args()\\n\\n    img = read_image(\\'data/proj1-task1.jpg\\')\\n    kernel_x_prewitt = prewitt_x\\n    kernel_y_prewitt = prewitt_y\\n    \\n    kernel_x_sobel = sobel_x\\n    kernel_y_sobel = sobel_y\\n\\n    img_edge_x_sobel = detect_edges(img, kernel_x_sobel, False)\\n    img_edge_x_sobel = np.asarray(img_edge_x_sobel)\\n    write_image(normalize(img_edge_x_sobel), \\'img_edge_x_sobel.jpg\\')\\n\\n    img_edge_y_sobel = detect_edges(img, kernel_y_sobel, False)\\n    img_edge_y_sobel = np.asarray(img_edge_y_sobel)\\n    write_image(normalize(img_edge_y_sobel),\\'img_edge_y_sobel.jpg\\')\\n\\n    img_edges_sobel = edge_magnitude(img_edge_x_sobel, img_edge_y_sobel)\\n    write_image(img_edges_sobel, \\'img_edges_sobel.jpg\\')\\n    \\n    img_edge_x_prewitt = detect_edges(img, kernel_x_prewitt, False)\\n    img_edge_x_prewitt = np.asarray(img_edge_x_prewitt)\\n    write_image(normalize(img_edge_x_prewitt), \\'img_edge_x_prewitt.jpg\\')\\n\\n    img_edge_y_prewitt= detect_edges(img, kernel_y_prewitt, False)\\n    img_edge_y_prewitt = np.asarray(img_edge_y_prewitt)\\n    write_image(normalize(img_edge_y_prewitt),\\'img_edge_y_prewitt.jpg\\')\\n\\n    img_edges_prewitt = edge_magnitude(img_edge_x_prewitt, img_edge_y_prewitt)\\n    write_image(img_edges_prewitt, \\'img_edges_prewitt.jpg\\')\\n\\n\\nif __name__ == \"__main__\":\\n    main()'"
      ]
     },
     "execution_count": 1018,
     "metadata": {},
     "output_type": "execute_result"
    }
   ],
   "source": [
    "\"\"\"def main():\n",
    "    #args = parse_args()\n",
    "\n",
    "    img = read_image('data/proj1-task1.jpg')\n",
    "    kernel_x_prewitt = prewitt_x\n",
    "    kernel_y_prewitt = prewitt_y\n",
    "    \n",
    "    kernel_x_sobel = sobel_x\n",
    "    kernel_y_sobel = sobel_y\n",
    "\n",
    "    img_edge_x_sobel = detect_edges(img, kernel_x_sobel, False)\n",
    "    img_edge_x_sobel = np.asarray(img_edge_x_sobel)\n",
    "    write_image(normalize(img_edge_x_sobel), 'img_edge_x_sobel.jpg')\n",
    "\n",
    "    img_edge_y_sobel = detect_edges(img, kernel_y_sobel, False)\n",
    "    img_edge_y_sobel = np.asarray(img_edge_y_sobel)\n",
    "    write_image(normalize(img_edge_y_sobel),'img_edge_y_sobel.jpg')\n",
    "\n",
    "    img_edges_sobel = edge_magnitude(img_edge_x_sobel, img_edge_y_sobel)\n",
    "    write_image(img_edges_sobel, 'img_edges_sobel.jpg')\n",
    "    \n",
    "    img_edge_x_prewitt = detect_edges(img, kernel_x_prewitt, False)\n",
    "    img_edge_x_prewitt = np.asarray(img_edge_x_prewitt)\n",
    "    write_image(normalize(img_edge_x_prewitt), 'img_edge_x_prewitt.jpg')\n",
    "\n",
    "    img_edge_y_prewitt= detect_edges(img, kernel_y_prewitt, False)\n",
    "    img_edge_y_prewitt = np.asarray(img_edge_y_prewitt)\n",
    "    write_image(normalize(img_edge_y_prewitt),'img_edge_y_prewitt.jpg')\n",
    "\n",
    "    img_edges_prewitt = edge_magnitude(img_edge_x_prewitt, img_edge_y_prewitt)\n",
    "    write_image(img_edges_prewitt, 'img_edges_prewitt.jpg')\n",
    "\n",
    "\n",
    "if __name__ == \"__main__\":\n",
    "    main()\"\"\""
   ]
  }
 ],
 "metadata": {
  "kernelspec": {
   "display_name": "Python 3",
   "language": "python",
   "name": "python3"
  },
  "language_info": {
   "codemirror_mode": {
    "name": "ipython",
    "version": 3
   },
   "file_extension": ".py",
   "mimetype": "text/x-python",
   "name": "python",
   "nbconvert_exporter": "python",
   "pygments_lexer": "ipython3",
   "version": "3.7.4"
  }
 },
 "nbformat": 4,
 "nbformat_minor": 2
}
